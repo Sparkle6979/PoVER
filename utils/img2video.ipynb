{
 "cells": [
  {
   "cell_type": "code",
   "execution_count": 1,
   "metadata": {},
   "outputs": [],
   "source": [
    "import cv2\n",
    "import os\n",
    "from itertools import product\n",
    "\n",
    "def video_to_frames(video_path, output_folder):\n",
    "    # 创建输出文件夹，如果不存在的话\n",
    "    if not os.path.exists(output_folder):\n",
    "        os.makedirs(output_folder)\n",
    "\n",
    "    # 打开视频文件\n",
    "    cap = cv2.VideoCapture(video_path)\n",
    "    \n",
    "    # 获取视频的总帧数\n",
    "    total_frames = int(cap.get(cv2.CAP_PROP_FRAME_COUNT))\n",
    "    print(f\"Total frames: {total_frames}\")\n",
    "\n",
    "    # 读取视频帧并保存为图片\n",
    "    frame_count = 0\n",
    "    while True:\n",
    "        ret, frame = cap.read()\n",
    "        if not ret:  # 如果没有帧读取到，退出\n",
    "            break\n",
    "\n",
    "        # 保存帧为图片\n",
    "        frame_filename = os.path.join(output_folder, f\"{frame_count:06d}.jpg\")\n",
    "        cv2.imwrite(frame_filename, frame)\n",
    "        # print(f\"Saving frame {frame_count + 1}/{total_frames}\")\n",
    "\n",
    "        frame_count += 1\n",
    "\n",
    "    # 释放视频对象\n",
    "    cap.release()\n",
    "    print(\"Video frames extraction completed.\")\n"
   ]
  },
  {
   "cell_type": "code",
   "execution_count": 3,
   "metadata": {},
   "outputs": [],
   "source": [
    "def swimXYZv2i(motion_cat, output_path, camera_view, skin, water_quantity, light, speed, cam_position):\n",
    "\n",
    "    for m,v,sk,w,l,s,p in product(motion_cat, camera_view, skin, water_quantity, light, speed, cam_position):\n",
    "        video_path = os.path.join(m,v,sk,w,l,s,p)\n",
    "        if str(p).find(\"1,75\") > -1:\n",
    "            save_path = os.path.join(output_path,v,sk,w,l,s,\"position_175\")\n",
    "        else:\n",
    "            save_path = os.path.join(output_path,v,sk,w,l,s,\"position_375\")\n",
    "        if not os.path.exists(save_path):\n",
    "            os.makedirs(save_path)\n",
    "        print(video_path)\n",
    "        video_to_frames(video_path, save_path)                        "
   ]
  },
  {
   "cell_type": "code",
   "execution_count": 4,
   "metadata": {},
   "outputs": [
    {
     "name": "stdout",
     "output_type": "stream",
     "text": [
      "/home/sparkle79/data/swimXYZ/video/Butterfly/Side_above_water/Swimmer_Skin_0,25_Muscle_2/Water_Quantity_0,25_Height_0,6/Lighting_rotx_110_roty_190/Speed_2/position_1,75.webm\n",
      "Total frames: 301\n",
      "Video frames extraction completed.\n",
      "/home/sparkle79/data/swimXYZ/video/Butterfly/Side_above_water/Swimmer_Skin_0,25_Muscle_2/Water_Quantity_0,25_Height_0,6/Lighting_rotx_110_roty_190/Speed_2/position_3,75.webm\n",
      "Total frames: 301\n",
      "Video frames extraction completed.\n",
      "/home/sparkle79/data/swimXYZ/video/Butterfly/Side_above_water/Swimmer_Skin_0,25_Muscle_8/Water_Quantity_0,25_Height_0,6/Lighting_rotx_110_roty_190/Speed_2/position_1,75.webm\n",
      "Total frames: 301\n",
      "Video frames extraction completed.\n",
      "/home/sparkle79/data/swimXYZ/video/Butterfly/Side_above_water/Swimmer_Skin_0,25_Muscle_8/Water_Quantity_0,25_Height_0,6/Lighting_rotx_110_roty_190/Speed_2/position_3,75.webm\n",
      "Total frames: 301\n",
      "Video frames extraction completed.\n",
      "/home/sparkle79/data/swimXYZ/video/Butterfly/Side_above_water/Swimmer_Skin_0,75_Muscle_2/Water_Quantity_0,25_Height_0,6/Lighting_rotx_110_roty_190/Speed_2/position_1,75.webm\n",
      "Total frames: 301\n",
      "Video frames extraction completed.\n",
      "/home/sparkle79/data/swimXYZ/video/Butterfly/Side_above_water/Swimmer_Skin_0,75_Muscle_2/Water_Quantity_0,25_Height_0,6/Lighting_rotx_110_roty_190/Speed_2/position_3,75.webm\n",
      "Total frames: 301\n",
      "Video frames extraction completed.\n",
      "/home/sparkle79/data/swimXYZ/video/Butterfly/Side_above_water/Swimmer_Skin_0,75_Muscle_8/Water_Quantity_0,25_Height_0,6/Lighting_rotx_110_roty_190/Speed_2/position_1,75.webm\n",
      "Total frames: 301\n",
      "Video frames extraction completed.\n",
      "/home/sparkle79/data/swimXYZ/video/Butterfly/Side_above_water/Swimmer_Skin_0,75_Muscle_8/Water_Quantity_0,25_Height_0,6/Lighting_rotx_110_roty_190/Speed_2/position_3,75.webm\n",
      "Total frames: 301\n",
      "Video frames extraction completed.\n"
     ]
    }
   ],
   "source": [
    "skins_set= [\"Swimmer_Skin_0,25_Muscle_2\", \"Swimmer_Skin_0,25_Muscle_8\", \"Swimmer_Skin_0,75_Muscle_2\", \"Swimmer_Skin_0,75_Muscle_8\"]\n",
    "water_quantity_set = [\"Water_Quantity_0,25_Height_0,6\"]\n",
    "light_set = [\"Lighting_rotx_110_roty_190\"]\n",
    "speed_set = [\"Speed_2\"]\n",
    "cam_position_set = [\"position_1,75.webm\", \"position_3,75.webm\"]"
   ]
  },
  {
   "cell_type": "code",
   "execution_count": null,
   "metadata": {},
   "outputs": [],
   "source": [
    "# Backstroke\n",
    "swimXYZv2i(motion_cat = [\"/home/sparkle79/data/swimXYZ/video/Backstroke\"], \n",
    "           output_path= \"/home/sparkle79/data/swimXYZ/image/Backstroke\",\n",
    "           camera_view=[\"Side_above_water\"],\n",
    "           skin= skins_set,\n",
    "           water_quantity=water_quantity_set,\n",
    "            light=light_set,\n",
    "            speed=speed_set,\n",
    "            cam_position=cam_position_set\n",
    "           )"
   ]
  },
  {
   "cell_type": "code",
   "execution_count": null,
   "metadata": {},
   "outputs": [],
   "source": [
    "# Butterfly\n",
    "swimXYZv2i(motion_cat = [\"/home/sparkle79/data/swimXYZ/video/Butterfly\"], \n",
    "           output_path= \"/home/sparkle79/data/swimXYZ/image/Butterfly\",\n",
    "           camera_view=[\"Side_above_water\"],\n",
    "           skin= skins_set,\n",
    "           water_quantity=water_quantity_set,\n",
    "            light=light_set,\n",
    "            speed=speed_set,\n",
    "            cam_position=cam_position_set\n",
    "           )"
   ]
  },
  {
   "cell_type": "code",
   "execution_count": 6,
   "metadata": {},
   "outputs": [
    {
     "name": "stdout",
     "output_type": "stream",
     "text": [
      "/home/sparkle79/data/swimXYZ/video/Freestyle/Side_above_water/Swimmer_Skin_0,25_Muscle_2/Water_Quantity_0,25_Height_0,6/Lighting_rotx_110_roty_190/Speed_2/position_1,75.webm\n",
      "Total frames: 301\n",
      "Video frames extraction completed.\n",
      "/home/sparkle79/data/swimXYZ/video/Freestyle/Side_above_water/Swimmer_Skin_0,25_Muscle_2/Water_Quantity_0,25_Height_0,6/Lighting_rotx_110_roty_190/Speed_2/position_3,75.webm\n",
      "Total frames: 5\n",
      "Video frames extraction completed.\n",
      "/home/sparkle79/data/swimXYZ/video/Freestyle/Side_above_water/Swimmer_Skin_0,25_Muscle_8/Water_Quantity_0,25_Height_0,6/Lighting_rotx_110_roty_190/Speed_2/position_1,75.webm\n",
      "Total frames: 301\n",
      "Video frames extraction completed.\n",
      "/home/sparkle79/data/swimXYZ/video/Freestyle/Side_above_water/Swimmer_Skin_0,25_Muscle_8/Water_Quantity_0,25_Height_0,6/Lighting_rotx_110_roty_190/Speed_2/position_3,75.webm\n",
      "Total frames: 301\n",
      "Video frames extraction completed.\n",
      "/home/sparkle79/data/swimXYZ/video/Freestyle/Side_above_water/Swimmer_Skin_0,75_Muscle_2/Water_Quantity_0,25_Height_0,6/Lighting_rotx_110_roty_190/Speed_2/position_1,75.webm\n",
      "Total frames: 301\n",
      "Video frames extraction completed.\n",
      "/home/sparkle79/data/swimXYZ/video/Freestyle/Side_above_water/Swimmer_Skin_0,75_Muscle_2/Water_Quantity_0,25_Height_0,6/Lighting_rotx_110_roty_190/Speed_2/position_3,75.webm\n",
      "Total frames: 301\n",
      "Video frames extraction completed.\n",
      "/home/sparkle79/data/swimXYZ/video/Freestyle/Side_above_water/Swimmer_Skin_0,75_Muscle_8/Water_Quantity_0,25_Height_0,6/Lighting_rotx_110_roty_190/Speed_2/position_1,75.webm\n",
      "Total frames: 301\n",
      "Video frames extraction completed.\n",
      "/home/sparkle79/data/swimXYZ/video/Freestyle/Side_above_water/Swimmer_Skin_0,75_Muscle_8/Water_Quantity_0,25_Height_0,6/Lighting_rotx_110_roty_190/Speed_2/position_3,75.webm\n",
      "Total frames: 301\n",
      "Video frames extraction completed.\n"
     ]
    }
   ],
   "source": [
    "# Freestyle\n",
    "swimXYZv2i(motion_cat = [\"/home/sparkle79/data/swimXYZ/video/Freestyle\"], \n",
    "           output_path= \"/home/sparkle79/data/swimXYZ/image/Freestyle\",\n",
    "           camera_view=[\"Side_above_water\"],\n",
    "           skin= skins_set,\n",
    "           water_quantity=water_quantity_set,\n",
    "            light=light_set,\n",
    "            speed=speed_set,\n",
    "            cam_position=cam_position_set\n",
    "           )"
   ]
  },
  {
   "cell_type": "code",
   "execution_count": null,
   "metadata": {},
   "outputs": [],
   "source": []
  }
 ],
 "metadata": {
  "kernelspec": {
   "display_name": "isaac",
   "language": "python",
   "name": "python3"
  },
  "language_info": {
   "codemirror_mode": {
    "name": "ipython",
    "version": 3
   },
   "file_extension": ".py",
   "mimetype": "text/x-python",
   "name": "python",
   "nbconvert_exporter": "python",
   "pygments_lexer": "ipython3",
   "version": "3.8.18"
  }
 },
 "nbformat": 4,
 "nbformat_minor": 2
}
