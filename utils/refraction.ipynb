{
 "cells": [
  {
   "cell_type": "code",
   "execution_count": 17,
   "metadata": {},
   "outputs": [],
   "source": [
    "import numpy as np\n",
    "import matplotlib.pyplot as plt\n",
    "\n",
    "\n",
    "def calculate_proportion(pro,k):\n",
    "    # 计算角度a\n",
    "    a_deg = 20 + 30 * pro\n",
    "    a_rad = np.radians(a_deg)\n",
    "\n",
    "    # 计算余弦比值f(x)\n",
    "    sin_a = np.sin(a_rad)\n",
    "    sin_b = sin_a / k\n",
    "    cos_a = np.sqrt(1 - sin_a**2)\n",
    "    cos_b = np.sqrt(1 - sin_b**2)\n",
    "    f_x = cos_b / cos_a\n",
    "    return f_x\n",
    "    \n",
    "    \n",
    "# # 定义x的范围\n",
    "# x = np.linspace(0, 1, 500)\n",
    "\n",
    "# # 计算角度a\n",
    "# a_deg = 20 + 30 * x\n",
    "# a_rad = np.radians(a_deg)\n",
    "\n",
    "# # 计算余弦比值f(x)\n",
    "# k = 1.33\n",
    "# sin_a = np.sin(a_rad)\n",
    "# sin_b = sin_a / k\n",
    "# cos_a = np.sqrt(1 - sin_a**2)\n",
    "# cos_b = np.sqrt(1 - sin_b**2)\n",
    "# f_x = cos_b / cos_a\n",
    "\n",
    "# # 绘制图像\n",
    "# plt.plot(x, f_x)\n",
    "# plt.xlabel('x')\n",
    "# plt.ylabel('f(x) = cos(b) / cos(a)')\n",
    "# plt.title('Function f(x) corresponding to the cosine ratio')\n",
    "# plt.grid(True)\n",
    "# plt.show()\n"
   ]
  },
  {
   "cell_type": "code",
   "execution_count": 18,
   "metadata": {},
   "outputs": [],
   "source": [
    "import cv2\n",
    "import numpy as np\n",
    "\n",
    "def refraction_correction(image, water_line, dis, n1=1.0, n2=1.33):\n",
    "    \"\"\"\n",
    "    对图像中水下部分进行折射矫正\n",
    "    :param image: 输入图像\n",
    "    :param water_line: 水面的垂直位置（y 坐标）\n",
    "    :param n1: 空气的折射率\n",
    "    :param n2: 水的折射率\n",
    "    :return: 矫正后的图像\n",
    "    \"\"\"\n",
    "    height, width, _ = image.shape\n",
    "    corrected_image = image.copy()\n",
    "    final_image = image[:water_line,:]\n",
    "    dis_pixel = (int)(height * dis)\n",
    "\n",
    "    print(\"height,\", height)\n",
    "    for y in range(water_line, height, dis_pixel):\n",
    "        pro = calculate_proportion((y + (dis_pixel / 2) - water_line)/water_line,n2/n1)\n",
    "\n",
    "        bottom_part = image[y:y+dis_pixel,:]\n",
    "    \n",
    "        # print(\"int pro\", (int)(pro))\n",
    "        stretched_bottom = cv2.resize(bottom_part,(width,(int)(dis_pixel*pro)),interpolation=cv2.INTER_LINEAR)\n",
    "\n",
    "        # 拼接上半部分和拉伸后的下半部分\n",
    "        final_image = np.vstack((final_image, stretched_bottom))\n",
    "\n",
    "        # for x in range(width):\n",
    "        #     # # 计算入射角（假设水面与视线垂直）\n",
    "        #     # theta1 = np.arctan((y - water_line) / width)\n",
    "\n",
    "        #     # # 使用 Snell 定律计算折射角，并确保输入值在 [-1, 1] 范围内\n",
    "        #     # sin_theta2_input = np.clip(n1 / n2 * np.sin(theta1), -1, 1)\n",
    "        #     # theta2 = np.arcsin(sin_theta2_input)\n",
    "\n",
    "        #     # # 检查是否计算出了 NaN 或无效的 theta2\n",
    "        #     # if np.isnan(theta2) or theta2 == 0:\n",
    "        #     #     continue\n",
    "\n",
    "            \n",
    "            \n",
    "        #     # 计算校正后的 y 坐标\n",
    "        #     # corrected_y = water_line + (y - water_line) / np.tan(theta2)\n",
    "        #     corrected_y = water_line + (y - water_line) * pro * n2\n",
    "        #     print(pro)\n",
    "        #     # 检查 corrected_y 是否为 NaN 或无效值\n",
    "        #     if np.isnan(corrected_y) or corrected_y < 0 or corrected_y >= height:\n",
    "        #         continue\n",
    "\n",
    "        #     corrected_y = int(corrected_y)\n",
    "        #     print(corrected_y)\n",
    "        #     # 更新图像像素\n",
    "        #     corrected_image[corrected_y, x] = image[y, x]\n",
    "\n",
    "    return final_image\n"
   ]
  },
  {
   "cell_type": "code",
   "execution_count": 19,
   "metadata": {},
   "outputs": [
    {
     "name": "stdout",
     "output_type": "stream",
     "text": [
      "height, 1080\n",
      "water_line, 378.0\n"
     ]
    }
   ],
   "source": [
    "# 加载图像\n",
    "image_path = '/home/sparkle79/Documents/cut/imgs/v5_1/000010.jpg'\n",
    "image = cv2.imread(image_path)\n",
    "\n",
    "height, width, _ = image.shape\n",
    "corrected_image = image.copy()\n",
    "print(\"height,\", height)\n",
    "print(\"water_line,\", image.shape[0] * 0.35)"
   ]
  },
  {
   "cell_type": "code",
   "execution_count": 24,
   "metadata": {},
   "outputs": [
    {
     "name": "stdout",
     "output_type": "stream",
     "text": [
      "height, 1080\n",
      "ori pic size: (1080, 1920, 3)\n",
      "aft pic size: (1163, 1920, 3)\n"
     ]
    }
   ],
   "source": [
    "# 假设水面位置为图像的中部\n",
    "water_line = image.shape[0] * 0.35\n",
    "# 进行折射矫正\n",
    "corrected_image = refraction_correction(image, (int)(water_line), 0.001)\n",
    "\n",
    "# 显示和保存结果\n",
    "# cv2.imshow('Corrected Image', corrected_image)\n",
    "cv2.imwrite('corrected_image_0001.jpg', corrected_image)\n",
    "# cv2.waitKey(0)\n",
    "# cv2.destroyAllWindows()\n",
    "\n",
    "print(\"ori pic size:\", image.shape)\n",
    "print(\"aft pic size:\", corrected_image.shape)"
   ]
  },
  {
   "cell_type": "code",
   "execution_count": null,
   "metadata": {},
   "outputs": [],
   "source": []
  }
 ],
 "metadata": {
  "kernelspec": {
   "display_name": "isaac",
   "language": "python",
   "name": "python3"
  },
  "language_info": {
   "codemirror_mode": {
    "name": "ipython",
    "version": 3
   },
   "file_extension": ".py",
   "mimetype": "text/x-python",
   "name": "python",
   "nbconvert_exporter": "python",
   "pygments_lexer": "ipython3",
   "version": "3.8.18"
  }
 },
 "nbformat": 4,
 "nbformat_minor": 2
}
