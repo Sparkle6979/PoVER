{
 "cells": [
  {
   "cell_type": "code",
   "execution_count": 1,
   "metadata": {},
   "outputs": [],
   "source": [
    "import json\n",
    "import numpy as np\n",
    "import os"
   ]
  },
  {
   "cell_type": "code",
   "execution_count": 2,
   "metadata": {},
   "outputs": [],
   "source": [
    "def align_source_to_target(source,target,scale = False):\n",
    "\n",
    "\ttar = target.copy()\n",
    "\tsou = source.copy()\n",
    "\tcenter_tar = tar - np.mean(tar,0) # centralized target mesh\n",
    "\tcenter_sou = sou - np.mean(sou,0) # centralized source mesh\n",
    "\n",
    "\tW = np.matmul(center_tar.transpose(),center_sou)\n",
    "\tU,S,V = np.linalg.svd(W)\n",
    "\tR = np.matmul(np.matmul(V.transpose(),np.diag([1,1,np.linalg.det(np.matmul(V.transpose(),U.transpose()))])),U.transpose()) # calculate rotation matrix (exclude mirror symmetry)\n",
    "\n",
    "\tif scale:\n",
    "\t\tR_sou = np.matmul(center_sou,R)\n",
    "\t\ts = np.sum(R_sou*center_tar)/np.sum(R_sou*R_sou)\n",
    "\telse:\n",
    "\t\ts = 1\n",
    "\n",
    "\tt = np.mean(tar,0) - s*np.matmul(np.expand_dims(np.mean(sou,0),0),R)\n",
    "\t\n",
    "\treturn R,t,s"
   ]
  },
  {
   "cell_type": "code",
   "execution_count": 3,
   "metadata": {},
   "outputs": [],
   "source": [
    "def align_source_to_target_2d(source, target, scale=False):\n",
    "    # 复制目标和源数据\n",
    "    tar = target.copy()\n",
    "    sou = source.copy()\n",
    "    \n",
    "    # 中心化处理\n",
    "    center_tar = tar - np.mean(tar, axis=0)  # 中心化目标点集\n",
    "    center_sou = sou - np.mean(sou, axis=0)  # 中心化源点集\n",
    "\n",
    "    # 计算协方差矩阵\n",
    "    W = np.matmul(center_tar.T, center_sou)  # 计算点集之间的协方差矩阵\n",
    "    U, S, V = np.linalg.svd(W)  # 对协方差矩阵进行SVD分解\n",
    "\n",
    "    # 计算旋转矩阵R (二维空间)\n",
    "    R = np.matmul(V.T, U.T)  # 计算旋转矩阵\n",
    "\n",
    "    if scale:\n",
    "        # 计算缩放因子\n",
    "        R_sou = np.matmul(center_sou, R)  # 使用旋转矩阵变换源点集\n",
    "        s = np.sum(R_sou * center_tar) / np.sum(R_sou * R_sou)  # 计算比例因子\n",
    "    else:\n",
    "        s = 1  # 如果不需要缩放，比例因子为1\n",
    "\n",
    "    # 计算平移向量\n",
    "    t = np.mean(tar, axis=0) - s * np.matmul(np.mean(sou, axis=0), R)\n",
    "\n",
    "    return R, t, s\n"
   ]
  },
  {
   "cell_type": "code",
   "execution_count": 6,
   "metadata": {},
   "outputs": [],
   "source": [
    "def apply_transform(vertices,R,t,scale = 1.0):\t\n",
    "    pcl = [(np.array(v).reshape(1,-1).dot(scale).dot(R) + t).flatten().tolist() for v in vertices]\n",
    "    return pcl\n",
    "\n",
    "def apply_transform_2d(vertices, R, t, scale=1.0):\n",
    "    # 对每个顶点应用变换\n",
    "    pcl = [(np.array(v).reshape(1, -1).dot(scale * R) + t).flatten().tolist() for v in vertices]\n",
    "    return pcl"
   ]
  },
  {
   "cell_type": "code",
   "execution_count": 4,
   "metadata": {},
   "outputs": [
    {
     "ename": "FileNotFoundError",
     "evalue": "[Errno 2] No such file or directory: './compare_jsons/jsons_mocap_without_ori/000001.json'",
     "output_type": "error",
     "traceback": [
      "\u001b[0;31m---------------------------------------------------------------------------\u001b[0m",
      "\u001b[0;31mFileNotFoundError\u001b[0m                         Traceback (most recent call last)",
      "Cell \u001b[0;32mIn[4], line 1\u001b[0m\n\u001b[0;32m----> 1\u001b[0m source \u001b[38;5;241m=\u001b[39m json\u001b[38;5;241m.\u001b[39mload(\u001b[38;5;28;43mopen\u001b[39;49m\u001b[43m(\u001b[49m\u001b[38;5;124;43m'\u001b[39;49m\u001b[38;5;124;43m./compare_jsons/jsons_mocap_without_ori/000001.json\u001b[39;49m\u001b[38;5;124;43m'\u001b[39;49m\u001b[43m,\u001b[49m\u001b[38;5;124;43m'\u001b[39;49m\u001b[38;5;124;43mr+\u001b[39;49m\u001b[38;5;124;43m'\u001b[39;49m\u001b[43m)\u001b[49m)[\u001b[38;5;241m0\u001b[39m][\u001b[38;5;124m'\u001b[39m\u001b[38;5;124mkeypoints3d\u001b[39m\u001b[38;5;124m'\u001b[39m]\n\u001b[1;32m      2\u001b[0m target \u001b[38;5;241m=\u001b[39m json\u001b[38;5;241m.\u001b[39mload(\u001b[38;5;28mopen\u001b[39m(\u001b[38;5;124m'\u001b[39m\u001b[38;5;124m./compare_jsons/jsons_gt/000001.json\u001b[39m\u001b[38;5;124m'\u001b[39m,\u001b[38;5;124m'\u001b[39m\u001b[38;5;124mr+\u001b[39m\u001b[38;5;124m'\u001b[39m))[\u001b[38;5;241m0\u001b[39m][\u001b[38;5;124m'\u001b[39m\u001b[38;5;124mkeypoints3d\u001b[39m\u001b[38;5;124m'\u001b[39m]\n",
      "File \u001b[0;32m~/conda/envs/isaac/lib/python3.8/site-packages/IPython/core/interactiveshell.py:284\u001b[0m, in \u001b[0;36m_modified_open\u001b[0;34m(file, *args, **kwargs)\u001b[0m\n\u001b[1;32m    277\u001b[0m \u001b[38;5;28;01mif\u001b[39;00m file \u001b[38;5;129;01min\u001b[39;00m {\u001b[38;5;241m0\u001b[39m, \u001b[38;5;241m1\u001b[39m, \u001b[38;5;241m2\u001b[39m}:\n\u001b[1;32m    278\u001b[0m     \u001b[38;5;28;01mraise\u001b[39;00m \u001b[38;5;167;01mValueError\u001b[39;00m(\n\u001b[1;32m    279\u001b[0m         \u001b[38;5;124mf\u001b[39m\u001b[38;5;124m\"\u001b[39m\u001b[38;5;124mIPython won\u001b[39m\u001b[38;5;124m'\u001b[39m\u001b[38;5;124mt let you open fd=\u001b[39m\u001b[38;5;132;01m{\u001b[39;00mfile\u001b[38;5;132;01m}\u001b[39;00m\u001b[38;5;124m by default \u001b[39m\u001b[38;5;124m\"\u001b[39m\n\u001b[1;32m    280\u001b[0m         \u001b[38;5;124m\"\u001b[39m\u001b[38;5;124mas it is likely to crash IPython. If you know what you are doing, \u001b[39m\u001b[38;5;124m\"\u001b[39m\n\u001b[1;32m    281\u001b[0m         \u001b[38;5;124m\"\u001b[39m\u001b[38;5;124myou can use builtins\u001b[39m\u001b[38;5;124m'\u001b[39m\u001b[38;5;124m open.\u001b[39m\u001b[38;5;124m\"\u001b[39m\n\u001b[1;32m    282\u001b[0m     )\n\u001b[0;32m--> 284\u001b[0m \u001b[38;5;28;01mreturn\u001b[39;00m \u001b[43mio_open\u001b[49m\u001b[43m(\u001b[49m\u001b[43mfile\u001b[49m\u001b[43m,\u001b[49m\u001b[43m \u001b[49m\u001b[38;5;241;43m*\u001b[39;49m\u001b[43margs\u001b[49m\u001b[43m,\u001b[49m\u001b[43m \u001b[49m\u001b[38;5;241;43m*\u001b[39;49m\u001b[38;5;241;43m*\u001b[39;49m\u001b[43mkwargs\u001b[49m\u001b[43m)\u001b[49m\n",
      "\u001b[0;31mFileNotFoundError\u001b[0m: [Errno 2] No such file or directory: './compare_jsons/jsons_mocap_without_ori/000001.json'"
     ]
    }
   ],
   "source": [
    "# json.load(open(os.path.join(json_gt_path, str(i).zfill(6) + '.json'), 'r+'))[0]['keypoints3d']\n",
    "source = json.load(open('/home/sparkle79/pypro/PoVER/swimXYZ/2D/free_wl_p3/vitprocess/000100.json','r+'))['annotations'][0]['keypoints']\n",
    "target = json.load(open('/home/sparkle79/pypro/PoVER/swimXYZ/2D/free_wl_p3/gt/jsons/000100.json','r+'))['annotations'][0]['keypoints']"
   ]
  },
  {
   "cell_type": "code",
   "execution_count": 5,
   "metadata": {},
   "outputs": [],
   "source": [
    "R,t,scale =  align_source_to_target(source,target,scale=True)\n",
    "source = apply_transform(source,R,t,scale)"
   ]
  },
  {
   "cell_type": "code",
   "execution_count": 11,
   "metadata": {},
   "outputs": [],
   "source": [
    "oripath = '/home/sparkle79/pypro/PoVER/swimXYZ/2D/free_wl_p3/vitprocess'\n",
    "savepath = '/home/sparkle79/pypro/PoVER/swimXYZ/2D/free_wl_p3/vitpalign'\n",
    "gtpath = '/home/sparkle79/pypro/PoVER/swimXYZ/2D/free_wl_p3/gt/jsons'\n",
    "for i in range(100,161):\n",
    "\n",
    "    source = json.load(open(os.path.join(oripath, str(i).zfill(6) + '.json'),'r+'))['annotations'][0]['keypoints']\n",
    "    target = json.load(open(os.path.join(gtpath, str(i).zfill(6) + '.json'),'r+'))['annotations'][0]['keypoints']\n",
    "\n",
    "    source2d = np.array(source).reshape(17,3)[:,:2]\n",
    "    target2d = np.array(target).reshape(17,3)[:,:2]\n",
    "    # print(source.shape)\n",
    "    # print(target.shape)\n",
    "    R,t,scale =  align_source_to_target_2d(source2d,target2d,scale=False)\n",
    "\n",
    "    source1 = json.load(open(os.path.join(oripath, str(i).zfill(6) + '.json'),'r+'))\n",
    "\n",
    "    sk2d = np.array(source1['annotations'][0]['keypoints']).reshape(17,3)[:,:2]\n",
    "\n",
    "    pcl = apply_transform_2d(sk2d,R,t,scale)\n",
    "\n",
    "    source3d = np.array(source).reshape(17,3)\n",
    "    source3d[:,:2] = pcl\n",
    "\n",
    "    source1['annotations'][0]['keypoints'] = source3d.reshape(1,-1).tolist()\n",
    "\n",
    "    with open(os.path.join(savepath, str(i).zfill(6) + '.json'), \"w+\") as json_file:\n",
    "        json.dump(source1, json_file, indent=4)"
   ]
  },
  {
   "cell_type": "code",
   "execution_count": null,
   "metadata": {},
   "outputs": [],
   "source": []
  }
 ],
 "metadata": {
  "kernelspec": {
   "display_name": "common",
   "language": "python",
   "name": "python3"
  },
  "language_info": {
   "codemirror_mode": {
    "name": "ipython",
    "version": 3
   },
   "file_extension": ".py",
   "mimetype": "text/x-python",
   "name": "python",
   "nbconvert_exporter": "python",
   "pygments_lexer": "ipython3",
   "version": "3.8.18"
  }
 },
 "nbformat": 4,
 "nbformat_minor": 2
}
