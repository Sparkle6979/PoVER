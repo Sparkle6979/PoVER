{
 "cells": [
  {
   "cell_type": "code",
   "execution_count": 1,
   "metadata": {},
   "outputs": [],
   "source": [
    "import numpy as np\n",
    "import json\n",
    "import os\n",
    "from sklearn.metrics import auc\n",
    "\n",
    "def euclidean_distance(p1, p2):\n",
    "    # 计算两点之间的欧氏距离\n",
    "    return np.linalg.norm(p1 - p2)\n",
    "\n",
    "def calculate_pck(predictions, ground_truths, threshold):\n",
    "    num_correct = 0\n",
    "    total_points = len(ground_truths)\n",
    "\n",
    "    for i in range(total_points):\n",
    "        # 计算预测关键点与真实关键点之间的距离\n",
    "        distance = euclidean_distance(predictions[i], ground_truths[i])\n",
    "        # 检查距离是否小于阈值\n",
    "        if distance <= threshold:\n",
    "            num_correct += 1\n",
    "\n",
    "    # 计算PCK@0.5指标\n",
    "    pck = num_correct / total_points * 100\n",
    "    return pck\n",
    "\n",
    "# def calculate_pck()"
   ]
  },
  {
   "cell_type": "code",
   "execution_count": 2,
   "metadata": {},
   "outputs": [],
   "source": [
    "json_gt_path = '/home/sparkle79/pypro/PoVER/swimXYZ/2D/free_wl_p3/gt/jsons'\n",
    "json_vit_path = '/home/sparkle79/pypro/PoVER/swimXYZ/2D/free_wl_p3/vit'\n",
    "json_vit_process_path = '/home/sparkle79/pypro/PoVER/swimXYZ/2D/free_wl_p3/vitpalign'\n",
    "# json_mocap_path = './compare_jsons/jsons_tmp/jsons_mocap_process'\n",
    "# json_mocap_without_path = './compare_jsons/jsons_tmp/jsons_mocap_without_process'\n",
    "# json_cliff_path = './compare_jsons/jsons_tmp/jsons_cliff_process'"
   ]
  },
  {
   "cell_type": "code",
   "execution_count": 18,
   "metadata": {},
   "outputs": [
    {
     "name": "stdout",
     "output_type": "stream",
     "text": [
      "pck_05_mocap 92.28543876567022\n",
      "pck_05_mocap_without 95.75699132111859\n"
     ]
    }
   ],
   "source": [
    "beg = 100\n",
    "end = 160\n",
    "lenr = end - beg + 1\n",
    "pck_05_vit_r = 0\n",
    "pck_05_vit_process_r = 0\n",
    "pck_05_cliff_r = 0\n",
    "\n",
    "auc_mocap_r = []\n",
    "auc_mocap_without_r = []\n",
    "auc_cliff_r = []\n",
    "\n",
    "auc_vit_r = []\n",
    "auc_vit_process_r = []\n",
    "\n",
    "\n",
    "for i in range(beg,end+1):\n",
    "    json_gt = json.load(open(os.path.join(json_gt_path, str(i).zfill(6) + '.json'), 'r+'))['annotations'][0]['keypoints']\n",
    "    json_vit = json.load(open(os.path.join(json_vit_path, str(i).zfill(6) + '.json'), 'r+'))['annotations'][0]['keypoints']\n",
    "    json_vit_process = json.load(open(os.path.join(json_vit_process_path, str(i).zfill(6) + '.json'), 'r+'))['annotations'][0]['keypoints']\n",
    "    # json_cliff = json.load(open(os.path.join(json_cliff_path, str(i).zfill(6) + '.json'), 'r+'))[0]['keypoints3d']\n",
    "\n",
    "\n",
    "\n",
    "    json_gt = np.array(json_gt).reshape(17,3)[:,:2]\n",
    "    json_vit = np.array(json_vit).reshape(17,3)[:,:2]\n",
    "    json_vit_process = np.array(json_vit_process).reshape(17,3)[:,:2]\n",
    "    # json_cliff = np.array(json_cliff)\n",
    "    \n",
    "    # 设置阈值（头部直径的50%）\n",
    "    threshold =  20 *  np.linalg.norm(json_gt[0] - ((json_gt[2] + json_gt[5])/2))\n",
    "    # 计算PCK@0.5指标\n",
    "    pck_05_vit = calculate_pck(json_vit, json_gt, threshold)\n",
    "    pck_05_vit_process = calculate_pck(json_vit_process, json_gt, threshold)\n",
    "    # pck_05_cliff = calculate_pck(json_cliff, json_gt, threshold)\n",
    "\n",
    "    pck_05_vit_r += pck_05_vit\n",
    "    pck_05_vit_process_r += pck_05_vit_process\n",
    "    # pck_05_cliff_r += pck_05_cliff\n",
    "\n",
    "    auc_vit_r.append(pck_05_vit)\n",
    "    auc_vit_process_r.append(pck_05_vit_process)\n",
    "    # auc_cliff_r.append(pck_05_cliff)\n",
    "\n",
    "    # print('pck_05_mocap',  pck_05_mocap)\n",
    "    # print('pck_05_mocap_without',  pck_05_mocap_without)\n",
    "    # print('pck_05_mocap_cliff',  pck_05_mocap_cliff)\n",
    "\n",
    "print('pck_05_mocap',  pck_05_vit_r/lenr)\n",
    "print('pck_05_mocap_without',  pck_05_vit_process_r/lenr)\n",
    "# print('pck_05_mocap_cliff',  pck_05_cliff_r/lenr)\n",
    "\n",
    "# print('auc_mocap',  auc())\n",
    "# print('pck_05_mocap_without',  pck_05_mocap_without_r/lenr)\n",
    "# print('pck_05_mocap_cliff',  pck_05_cliff_r/lenr)"
   ]
  },
  {
   "cell_type": "code",
   "execution_count": 25,
   "metadata": {},
   "outputs": [
    {
     "name": "stdout",
     "output_type": "stream",
     "text": [
      "pck_02_mocap 44.666666666666664\n",
      "pck_02_mocap_without 44.0\n",
      "pck_02_mocap_cliff 65.6\n"
     ]
    }
   ],
   "source": [
    "beg = 1\n",
    "end = 30\n",
    "lenr = end - beg + 1\n",
    "pck_02_mocap_r = 0\n",
    "pck_02_mocap_without_r = 0\n",
    "pck_02_cliff_r = 0\n",
    "\n",
    "auc_mocap_r = []\n",
    "auc_mocap_without_r = []\n",
    "auc_cliff_r = []\n",
    "\n",
    "for i in range(beg,end+1):\n",
    "    json_gt = json.load(open(os.path.join(json_gt_path, str(i).zfill(6) + '.json'), 'r+'))[0]['keypoints3d']\n",
    "    json_mocap = json.load(open(os.path.join(json_mocap_path, str(i).zfill(6) + '.json'), 'r+'))[0]['keypoints3d']\n",
    "    json_mocap_without = json.load(open(os.path.join(json_mocap_without_path, str(i).zfill(6) + '.json'), 'r+'))[0]['keypoints3d']\n",
    "    json_cliff = json.load(open(os.path.join(json_cliff_path, str(i).zfill(6) + '.json'), 'r+'))[0]['keypoints3d']\n",
    "\n",
    "    json_gt = np.array(json_gt)\n",
    "    json_mocap = np.array(json_mocap)\n",
    "    json_mocap_without = np.array(json_mocap_without)\n",
    "    json_cliff = np.array(json_cliff)\n",
    "\n",
    "    # 设置阈值（头部直径的20%）\n",
    "    threshold = 0.9 * np.linalg.norm(json_gt[0] - json_gt[1])\n",
    "    # 计算PCK@0.5指标\n",
    "    pck_02_mocap = calculate_pck(json_mocap, json_gt, threshold)\n",
    "    pck_02_mocap_without = calculate_pck(json_mocap_without, json_gt, threshold)\n",
    "    pck_02_cliff = calculate_pck(json_cliff, json_gt, threshold)\n",
    "\n",
    "    pck_02_mocap_r += pck_02_mocap\n",
    "    pck_02_mocap_without_r += pck_02_mocap_without\n",
    "    pck_02_cliff_r += pck_02_cliff\n",
    "\n",
    "\n",
    "print('pck_02_mocap',  pck_02_mocap_r/lenr)\n",
    "print('pck_02_mocap_without',  pck_02_mocap_without_r/lenr)\n",
    "print('pck_02_mocap_cliff',  pck_02_cliff_r/lenr)\n",
    "\n",
    "# print('auc_mocap',  auc())\n",
    "# print('pck_05_mocap_without',  pck_05_mocap_without_r/lenr)\n",
    "# print('pck_05_mocap_cliff',  pck_05_cliff_r/lenr)"
   ]
  },
  {
   "cell_type": "code",
   "execution_count": null,
   "metadata": {},
   "outputs": [],
   "source": [
    "# 示例数据\n",
    "ground_truths = np.array([[1.0, 2.0, 3.0], [4.0, 5.0, 6.0], [7.0, 8.0, 9.0]])\n",
    "predictions = np.array([[1.1, 1.9, 3.2], [4.2, 5.3, 6.1], [7.2, 8.1, 9.3]])\n",
    "\n",
    "# 设置阈值（头部直径的50%）\n",
    "threshold = 0.5 * np.linalg.norm(ground_truths[0] - ground_truths[1])\n",
    "\n",
    "# 计算PCK@0.5指标\n",
    "pck_05 = calculate_pck(predictions, ground_truths, threshold)\n",
    "print(\"PCK@0.5:\", pck_05)\n"
   ]
  }
 ],
 "metadata": {
  "kernelspec": {
   "display_name": "common",
   "language": "python",
   "name": "python3"
  },
  "language_info": {
   "codemirror_mode": {
    "name": "ipython",
    "version": 3
   },
   "file_extension": ".py",
   "mimetype": "text/x-python",
   "name": "python",
   "nbconvert_exporter": "python",
   "pygments_lexer": "ipython3",
   "version": "3.8.18"
  }
 },
 "nbformat": 4,
 "nbformat_minor": 2
}
