{
 "cells": [
  {
   "cell_type": "code",
   "execution_count": 29,
   "metadata": {},
   "outputs": [],
   "source": [
    "import numpy as np\n",
    "import json\n",
    "import os\n",
    "def compute_mpjpe(predicted_data, true_data):\n",
    "    # predicted_data: 预测数据，每行是一个三维坐标点\n",
    "    # true_data: 真实数据，每行是一个三维坐标点\n",
    "    # correspondence: 点之间的对应关系，每行是一个对应关系（索引对），例如 [i, j] 表示第i个预测点对应第j个真实点\n",
    "\n",
    "    # 根据 correspondence 对预测数据进行重排序\n",
    "    # reordered_predicted_data = np.array([predicted_data[i] for i, _ in correspondence])\n",
    "\n",
    "    # 计算 MPJPE 误差\n",
    "    mpjpe = np.sqrt(np.sum((np.array(predicted_data) - np.array(true_data)) ** 2, axis=1)).mean()\n",
    "\n",
    "    return mpjpe"
   ]
  },
  {
   "cell_type": "code",
   "execution_count": 38,
   "metadata": {},
   "outputs": [
    {
     "name": "stdout",
     "output_type": "stream",
     "text": [
      "pa-mpjpe cliff:  0.21642400830662925\n",
      "pa-mpjpe mocap:  0.2864524397057477\n",
      "pa-mpjpe mocap_without:  0.2668568518459697\n",
      "pa-mpjpe cliff:  0.22456913477258794\n",
      "pa-mpjpe mocap:  0.2821572699673434\n",
      "pa-mpjpe mocap_without:  0.25597620071095034\n",
      "pa-mpjpe cliff:  0.20320410948040968\n",
      "pa-mpjpe mocap:  0.27986894968233483\n",
      "pa-mpjpe mocap_without:  0.2578841975519563\n",
      "pa-mpjpe cliff:  0.20900630650511545\n",
      "pa-mpjpe mocap:  0.2728585237707821\n",
      "pa-mpjpe mocap_without:  0.25672399533093454\n",
      "pa-mpjpe cliff:  0.21248705018303973\n",
      "pa-mpjpe mocap:  0.26435585520011345\n",
      "pa-mpjpe mocap_without:  0.2551359629618588\n",
      "pa-mpjpe cliff:  0.21349027643381396\n",
      "pa-mpjpe mocap:  0.25443153758946\n",
      "pa-mpjpe mocap_without:  0.2514961045650421\n",
      "cliff : 0.25583617713631923\n",
      "mocap : 0.3280249151831563\n",
      "mocap_without : 0.3088146625933424\n"
     ]
    }
   ],
   "source": [
    "json_gt_path = './compare_jsons/jsons_tmp/jsons_gt'\n",
    "json_mocap_path = './compare_jsons/jsons_tmp/jsons_mocap_process'\n",
    "json_mocap_without_path = './compare_jsons/jsons_tmp/jsons_mocap_without_process'\n",
    "json_cliff_path = './compare_jsons/jsons_tmp/jsons_cliff_process'\n",
    "\n",
    "cliff_err = 0.0\n",
    "mocap_err = 0.0\n",
    "mocap_without_err = 0.0\n",
    "beg = 25\n",
    "end = 30\n",
    "for i in range(beg,end+1):\n",
    "    json_gt = json.load(open(os.path.join(json_gt_path, str(i).zfill(6) + '.json'), 'r+'))[0]['keypoints3d']\n",
    "    json_mocap = json.load(open(os.path.join(json_mocap_path, str(i).zfill(6) + '.json'), 'r+'))[0]['keypoints3d']\n",
    "    json_mocap_without = json.load(open(os.path.join(json_mocap_without_path, str(i).zfill(6) + '.json'), 'r+'))[0]['keypoints3d']\n",
    "    json_cliff = json.load(open(os.path.join(json_cliff_path, str(i).zfill(6) + '.json'), 'r+'))[0]['keypoints3d']\n",
    "\n",
    "    cliff_err += compute_mpjpe(json_cliff, json_gt)\n",
    "    mocap_err += compute_mpjpe(json_mocap, json_gt)\n",
    "    mocap_without_err += compute_mpjpe(json_mocap_without, json_gt)\n",
    "\n",
    "    print('pa-mpjpe cliff: ', compute_mpjpe(json_cliff, json_gt))\n",
    "    print('pa-mpjpe mocap: ', compute_mpjpe(json_mocap, json_gt))\n",
    "    print('pa-mpjpe mocap_without: ', compute_mpjpe(json_mocap_without, json_gt))\n",
    "\n",
    "lens = end - beg\n",
    "print('cliff :' , cliff_err/lens)\n",
    "print('mocap :' , mocap_err/lens)\n",
    "print('mocap_without :' , mocap_without_err/lens)\n",
    "# json_gt = json.load(open('./compare_jsons/jsons_gt/'))\n",
    "# target = json.load(open('./compare_jsons/jsons_gt/000001.json','r+'))[0]['keypoints3d']\n",
    "\n"
   ]
  },
  {
   "cell_type": "code",
   "execution_count": null,
   "metadata": {},
   "outputs": [],
   "source": [
    "json_mocap_without_path = './compare_jsons/jsons_mocap_without_process'"
   ]
  }
 ],
 "metadata": {
  "kernelspec": {
   "display_name": "common",
   "language": "python",
   "name": "python3"
  },
  "language_info": {
   "codemirror_mode": {
    "name": "ipython",
    "version": 3
   },
   "file_extension": ".py",
   "mimetype": "text/x-python",
   "name": "python",
   "nbconvert_exporter": "python",
   "pygments_lexer": "ipython3",
   "version": "3.9.12"
  }
 },
 "nbformat": 4,
 "nbformat_minor": 2
}
