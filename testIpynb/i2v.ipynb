{
 "cells": [
  {
   "cell_type": "code",
   "execution_count": 1,
   "metadata": {},
   "outputs": [],
   "source": [
    "import cv2\n",
    "import os\n",
    "from itertools import product\n",
    "\n",
    "def video_to_frames(video_path, output_folder):\n",
    "    # 创建输出文件夹，如果不存在的话\n",
    "    if not os.path.exists(output_folder):\n",
    "        os.makedirs(output_folder)\n",
    "\n",
    "    # 打开视频文件\n",
    "    cap = cv2.VideoCapture(video_path)\n",
    "    \n",
    "    # 获取视频的总帧数\n",
    "    total_frames = int(cap.get(cv2.CAP_PROP_FRAME_COUNT))\n",
    "    print(f\"Total frames: {total_frames}\")\n",
    "\n",
    "    # 读取视频帧并保存为图片\n",
    "    frame_count = 0\n",
    "    while True:\n",
    "        ret, frame = cap.read()\n",
    "        if not ret:  # 如果没有帧读取到，退出\n",
    "            break\n",
    "\n",
    "        # 保存帧为图片\n",
    "        frame_filename = os.path.join(output_folder, f\"{frame_count:06d}.jpg\")\n",
    "        cv2.imwrite(frame_filename, frame)\n",
    "        # print(f\"Saving frame {frame_count + 1}/{total_frames}\")\n",
    "\n",
    "        frame_count += 1\n",
    "\n",
    "    # 释放视频对象\n",
    "    cap.release()\n",
    "    print(\"Video frames extraction completed.\")\n"
   ]
  },
  {
   "cell_type": "code",
   "execution_count": 2,
   "metadata": {},
   "outputs": [
    {
     "name": "stdout",
     "output_type": "stream",
     "text": [
      "Total frames: 1493\n",
      "Video frames extraction completed.\n"
     ]
    }
   ],
   "source": [
    "video_to_frames('/home/sparkle79/Documents/cut/v2_1.mp4','/home/sparkle79/Documents/cut/imgs/v2_1')"
   ]
  },
  {
   "cell_type": "code",
   "execution_count": null,
   "metadata": {},
   "outputs": [],
   "source": []
  }
 ],
 "metadata": {
  "kernelspec": {
   "display_name": "isaac",
   "language": "python",
   "name": "python3"
  },
  "language_info": {
   "codemirror_mode": {
    "name": "ipython",
    "version": 3
   },
   "file_extension": ".py",
   "mimetype": "text/x-python",
   "name": "python",
   "nbconvert_exporter": "python",
   "pygments_lexer": "ipython3",
   "version": "3.8.18"
  }
 },
 "nbformat": 4,
 "nbformat_minor": 2
}
