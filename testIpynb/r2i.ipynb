{
 "cells": [
  {
   "cell_type": "code",
   "execution_count": 1,
   "metadata": {},
   "outputs": [],
   "source": [
    "import numpy as np\n",
    "import matplotlib.pyplot as plt\n",
    "\n",
    "\n",
    "def calculate_proportion(pro,na = 1,nw = 1.33):\n",
    "    # 计算角度a\n",
    "    a_deg = 5 + 15 * (1 - pro)\n",
    "    a_rad = np.radians(a_deg)\n",
    "\n",
    "    # 计算余弦比值f(x)\n",
    "    sin_a = np.sin(a_rad)\n",
    "    sin_b = (sin_a * na) / nw \n",
    "    cos_a = np.sqrt(1 - sin_a**2)\n",
    "    cos_b = np.sqrt(1 - sin_b**2)\n",
    "    f_x = (nw / na) * cos_b / cos_a\n",
    "    return f_x\n",
    "\n",
    "import cv2\n",
    "\n",
    "def refraction_correction(image, water_line, dis, n1=1.0, n2=1.3):\n",
    "    \"\"\"\n",
    "    对图像中水下部分进行折射矫正\n",
    "    :param image: 输入图像\n",
    "    :param water_line: 水面的垂直位置（y 坐标）\n",
    "    :param n1: 空气的折射率\n",
    "    :param n2: 水的折射率\n",
    "    :return: 矫正后的图像\n",
    "    \"\"\"\n",
    "    height, width, _ = image.shape\n",
    "    final_image = image[:water_line,:]\n",
    "    dis_pixel = (int)((height-water_line) * dis)\n",
    "\n",
    "    for y in range(water_line, height, dis_pixel):\n",
    "    \n",
    "        pro = calculate_proportion((y + (dis_pixel / 2) - water_line)/water_line,n1,n2)\n",
    "\n",
    "        bottom_part = image[y:y+dis_pixel,:]\n",
    "    \n",
    "        print(f\"bottom_part.shape: {bottom_part.shape}, pro: {pro} , resize shape: {(width,(int)(dis_pixel*pro))}\")\n",
    "        stretched_bottom = cv2.resize(bottom_part,(width,(int)(dis_pixel*pro)),interpolation=cv2.INTER_LINEAR)\n",
    "\n",
    "        # 拼接上半部分和拉伸后的下半部分\n",
    "        final_image = np.vstack((final_image, stretched_bottom))\n",
    "\n",
    "    return final_image\n"
   ]
  },
  {
   "cell_type": "code",
   "execution_count": 86,
   "metadata": {},
   "outputs": [
    {
     "name": "stdout",
     "output_type": "stream",
     "text": [
      "bottom_part.shape: (540, 1920, 3), pro: 1.3129784770424127 , resize shape: (1920, 709)\n",
      "ori pic size: (1080, 1920, 3)\n",
      "aft pic size: (1249, 1920, 3)\n"
     ]
    }
   ],
   "source": [
    "# 加载图像\n",
    "image_path = './imgs/000010.jpg'\n",
    "image = cv2.imread(image_path)\n",
    "\n",
    "height, width, _ = image.shape\n",
    "corrected_image = image.copy()\n",
    "# print(\"height,\", height)\n",
    "# print(\"water_line,\", image.shape[0] * 0.35)\n",
    "\n",
    "# 假设水面位置为图像的中部\n",
    "water_line = image.shape[0] * 0.5\n",
    "# 进行折射矫正\n",
    "corrected_image = refraction_correction(image, (int)(water_line), 1)\n",
    "\n",
    "# 显示和保存结果\n",
    "# cv2.imshow('Corrected Image', corrected_image)\n",
    "cv2.imwrite('./imgs/000010_r.jpg', corrected_image)\n",
    "# cv2.waitKey(0)\n",
    "# cv2.destroyAllWindows()\n",
    "\n",
    "print(\"ori pic size:\", image.shape)\n",
    "print(\"aft pic size:\", corrected_image.shape)"
   ]
  },
  {
   "cell_type": "code",
   "execution_count": 87,
   "metadata": {},
   "outputs": [
    {
     "name": "stdout",
     "output_type": "stream",
     "text": [
      "bottom_part.shape: (540, 1920, 3), pro: 1.3129784770424127 , resize shape: (1920, 709)\n",
      "ori pic size: (1080, 1920, 3)\n",
      "aft pic size: (1249, 1920, 3)\n"
     ]
    }
   ],
   "source": [
    "# 加载图像\n",
    "image_path = './imgs/000073.jpg'\n",
    "image = cv2.imread(image_path)\n",
    "\n",
    "height, width, _ = image.shape\n",
    "corrected_image = image.copy()\n",
    "# print(\"height,\", height)\n",
    "# print(\"water_line,\", image.shape[0] * 0.35)\n",
    "\n",
    "# 假设水面位置为图像的中部\n",
    "water_line = image.shape[0] * 0.5\n",
    "# 进行折射矫正\n",
    "corrected_image = refraction_correction(image, (int)(water_line), 1)\n",
    "\n",
    "# 显示和保存结果\n",
    "# cv2.imshow('Corrected Image', corrected_image)\n",
    "cv2.imwrite('./imgs/000073_r.jpg', corrected_image)\n",
    "# cv2.waitKey(0)\n",
    "# cv2.destroyAllWindows()\n",
    "\n",
    "print(\"ori pic size:\", image.shape)\n",
    "print(\"aft pic size:\", corrected_image.shape)"
   ]
  },
  {
   "cell_type": "code",
   "execution_count": 93,
   "metadata": {},
   "outputs": [
    {
     "name": "stdout",
     "output_type": "stream",
     "text": [
      "bottom_part.shape: (189, 1920, 3), pro: 1.3257285684867413 , resize shape: (1920, 250)\n",
      "bottom_part.shape: (189, 1920, 3), pro: 1.312191738688981 , resize shape: (1920, 248)\n",
      "bottom_part.shape: (162, 1920, 3), pro: 1.3038522599165137 , resize shape: (1920, 246)\n",
      "ori pic size: (1080, 1920, 3)\n",
      "aft pic size: (1284, 1920, 3)\n"
     ]
    }
   ],
   "source": [
    "# 加载图像\n",
    "image_path = './imgs/000144.jpg'\n",
    "image = cv2.imread(image_path)\n",
    "\n",
    "height, width, _ = image.shape\n",
    "corrected_image = image.copy()\n",
    "# print(\"height,\", height)\n",
    "# print(\"water_line,\", image.shape[0] * 0.35)\n",
    "\n",
    "# 假设水面位置为图像的中部\n",
    "water_line = image.shape[0] * 0.5\n",
    "# 进行折射矫正\n",
    "corrected_image = refraction_correction(image, (int)(water_line), 0.35)\n",
    "\n",
    "# 显示和保存结果\n",
    "# cv2.imshow('Corrected Image', corrected_image)\n",
    "cv2.imwrite('./imgs/000144_r.jpg', corrected_image)\n",
    "# cv2.waitKey(0)\n",
    "# cv2.destroyAllWindows()\n",
    "\n",
    "print(\"ori pic size:\", image.shape)\n",
    "print(\"aft pic size:\", corrected_image.shape)"
   ]
  },
  {
   "cell_type": "code",
   "execution_count": null,
   "metadata": {},
   "outputs": [],
   "source": [
    "import os\n",
    "\n",
    "imgdir = '/home/sparkle79/pypro/PoVER/swimXYZ/imgs'\n",
    "imgp = os.path.listdir(imgdir)\n",
    "# img_path = [os.path.join(imgdir,p) for p in imgp]\n",
    "\n",
    "for p in imgp:\n",
    "    path = os.path.join(imgdir,p)\n",
    "    image = cv2.imread(path)\n",
    "\n",
    "    height, width, _ = image.shape\n",
    "    corrected_image = image.copy()\n",
    "    # print(\"height,\", height)\n",
    "    # print(\"water_line,\", image.shape[0] * 0.35)\n",
    "\n",
    "    # 假设水面位置为图像的中部\n",
    "    water_line = image.shape[0] * 0.5\n",
    "    # 进行折射矫正\n",
    "    corrected_image = refraction_correction(image, (int)(water_line), 0.35)\n",
    "\n",
    "    # 显示和保存结果\n",
    "    # cv2.imshow('Corrected Image', corrected_image)\n",
    "    # save_json_file = os.path.join(\"/home/sparkle79/pypro/PoVER/swimXYZ/2D/vit\", imgp.replace(\".jpg\", \".json\"))\n",
    "    savepath = os.path.join('/home/sparkle79/pypro/PoVER/swimXYZ/process/imgs', p)\n",
    "    cv2.imwrite('/home/sparkle79/pypro/PoVER/swimXYZ/process/imgs', corrected_image)\n",
    "    # cv2.waitKey(0)\n",
    "    # cv2.destroyAllWindows()\n"
   ]
  }
 ],
 "metadata": {
  "kernelspec": {
   "display_name": "isaac",
   "language": "python",
   "name": "python3"
  },
  "language_info": {
   "codemirror_mode": {
    "name": "ipython",
    "version": 3
   },
   "file_extension": ".py",
   "mimetype": "text/x-python",
   "name": "python",
   "nbconvert_exporter": "python",
   "pygments_lexer": "ipython3",
   "version": "3.8.18"
  }
 },
 "nbformat": 4,
 "nbformat_minor": 2
}
